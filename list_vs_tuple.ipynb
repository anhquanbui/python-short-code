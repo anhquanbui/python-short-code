{
  "cells": [
    {
      "cell_type": "markdown",
      "metadata": {},
      "source": [
        "# \ud83d\udcd8 list_vs_tuple.ipynb\n",
        "## Topic: Difference between List and Tuple in Python"
      ]
    },
    {
      "cell_type": "code",
      "metadata": {},
      "source": [
        "# 1\ufe0f\u20e3 Basic Creation\n",
        "my_list = [1, 2, 3, 4]\n",
        "my_tuple = (1, 2, 3, 4)\n",
        "print('List:', my_list)\n",
        "print('Tuple:', my_tuple)\n",
        "print('Type check:', type(my_list), type(my_tuple))"
      ]
    },
    {
      "cell_type": "code",
      "metadata": {},
      "source": [
        "# 2\ufe0f\u20e3 Mutability Test\n",
        "my_list[1] = 99\n",
        "print('Modified list:', my_list)\n",
        "try:\n",
        "    my_tuple[1] = 99\n",
        "except TypeError as e:\n",
        "    print('Tuple modification error:', e)"
      ]
    },
    {
      "cell_type": "code",
      "metadata": {},
      "source": [
        "# 3\ufe0f\u20e3 Performance Comparison\n",
        "import timeit\n",
        "list_time = timeit.timeit(stmt='[1, 2, 3, 4, 5]', number=1_000_000)\n",
        "tuple_time = timeit.timeit(stmt='(1, 2, 3, 4, 5)', number=1_000_000)\n",
        "print(f'List creation time: {list_time:.6f} sec')\n",
        "print(f'Tuple creation time: {tuple_time:.6f} sec')\n",
        "print(f'Tuple is roughly {list_time/tuple_time:.2f}x faster here.')"
      ]
    },
    {
      "cell_type": "code",
      "metadata": {},
      "source": [
        "# 4\ufe0f\u20e3 Tuple as Dictionary Key\n",
        "location_dict = {\n",
        "    (45.665, -73.565): 'Montreal',\n",
        "    (51.044, -114.071): 'Calgary'\n",
        "}\n",
        "print('Tuple as dict key works \u2705')\n",
        "print(location_dict)\n",
        "try:\n",
        "    bad_key = {[45.665, -73.565]: 'Invalid'}\n",
        "except TypeError as e:\n",
        "    print('List as dict key error:', e)"
      ]
    },
    {
      "cell_type": "code",
      "metadata": {},
      "source": [
        "# 5\ufe0f\u20e3 Special / Edge Cases\n",
        "single_tuple = (5,)\n",
        "print('Single-element tuple:', single_tuple, '| type:', type(single_tuple))\n",
        "not_tuple = (5)\n",
        "print('Without comma:', not_tuple, '| type:', type(not_tuple))\n",
        "tuple_with_list = (1, [2, 3], 4)\n",
        "print('Before change:', tuple_with_list)\n",
        "tuple_with_list[1].append(99)\n",
        "print('After modifying inner list:', tuple_with_list)\n",
        "fruits = ['apple', 'banana', 'cherry']\n",
        "x, y, z = fruits\n",
        "print('Unpacked list:', x, y, z)\n",
        "coordinates = (10.5, 20.3)\n",
        "lat, lon = coordinates\n",
        "print('Unpacked tuple:', lat, lon)\n",
        "person = ('Quan', ('Regina', 'Canada'))\n",
        "name, (city, country) = person\n",
        "print('Nested unpacking:', name, city, country)"
      ]
    }
  ],
  "metadata": {
    "kernelspec": {
      "display_name": "Python 3",
      "language": "python",
      "name": "python3"
    },
    "language_info": {
      "name": "python",
      "version": "3.x"
    }
  },
  "nbformat": 4,
  "nbformat_minor": 2
}