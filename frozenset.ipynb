{
  "cells": [
    {
      "cell_type": "markdown",
      "metadata": {},
      "source": [
        "# \ud83e\uddca frozenset Demo\n",
        "\n",
        "A step\u2011by\u2011step notebook to understand `frozenset` vs `set` in Python."
      ]
    },
    {
      "cell_type": "code",
      "metadata": {},
      "source": [
        "# 1\ufe0f\u20e3 Basic creation & type\n",
        "normal_set = {1, 2, 3, 3}\n",
        "frozen = frozenset([1, 2, 3, 3])\n",
        "print('set      ->', normal_set, '| type:', type(normal_set))\n",
        "print('frozenset->', frozen,     '| type:', type(frozen))"
      ]
    },
    {
      "cell_type": "code",
      "metadata": {},
      "source": [
        "# 2\ufe0f\u20e3 Immutability test (frozenset is read\u2011only)\n",
        "frozen = frozenset([1, 2, 3])\n",
        "try:\n",
        "    frozen.add(4)\n",
        "except AttributeError as e:\n",
        "    print('Attempt to add ->', e)\n",
        "try:\n",
        "    frozen.remove(2)\n",
        "except AttributeError as e:\n",
        "    print('Attempt to remove ->', e)"
      ]
    },
    {
      "cell_type": "code",
      "metadata": {},
      "source": [
        "# 3\ufe0f\u20e3 Using frozenset as dict keys (hashable) & inside a set\n",
        "a = frozenset({1, 2})\n",
        "b = frozenset({2, 3})\n",
        "d = {a: 'group A', b: 'group B'}\n",
        "print('Dict with frozenset keys ->', d)\n",
        "\n",
        "# frozensets inside a set\n",
        "container = {a, b}\n",
        "print('Set of frozensets ->', container)\n",
        "\n",
        "# Demonstrate that a normal set is NOT hashable\n",
        "try:\n",
        "    bad = {[1, 2]}  # set as a key -> TypeError\n",
        "except TypeError as e:\n",
        "    print('set as key ->', e)"
      ]
    },
    {
      "cell_type": "code",
      "metadata": {},
      "source": [
        "# 4\ufe0f\u20e3 Set algebra still works (returns frozenset)\n",
        "x = frozenset({1, 2, 3, 4})\n",
        "y = frozenset({3, 4, 5, 6})\n",
        "print('Union:       ', x | y)\n",
        "print('Intersection:', x & y)\n",
        "print('Difference:  ', x - y)\n",
        "print('Symmetric ^ :', x ^ y)"
      ]
    },
    {
      "cell_type": "code",
      "metadata": {},
      "source": [
        "# 5\ufe0f\u20e3 Practical: Deduplicate unordered groups (order-insensitive)\n",
        "tag_groups = [\n",
        "    ['ai', 'ml', 'python'],\n",
        "    ['python', 'ml', 'ai'],   # same group, different order\n",
        "    ['travel', 'seo'],\n",
        "    ['seo', 'travel'],        # same as above\n",
        "    ['python', 'data']\n",
        "]\n",
        "\n",
        "# Convert each list to frozenset to make groups hashable & order-insensitive\n",
        "as_frozensets = [frozenset(g) for g in tag_groups]\n",
        "unique_groups = set(as_frozensets)\n",
        "\n",
        "print('Original groups (possibly duplicated by order):')\n",
        "for g in tag_groups:\n",
        "    print(' ', g)\n",
        "print('\\nUnique groups (using frozenset):')\n",
        "for g in unique_groups:\n",
        "    print(' ', g)\n",
        "print('\\nNumber of original groups:', len(tag_groups))\n",
        "print('Number of unique groups:   ', len(unique_groups))"
      ]
    },
    {
      "cell_type": "code",
      "metadata": {},
      "source": [
        "# 6\ufe0f\u20e3 Equality & hashing behavior\n",
        "p = frozenset({'a', 'b'})\n",
        "q = frozenset({'b', 'a'})\n",
        "print('p == q ->', p == q)\n",
        "print('hash(p) == hash(q) ->', hash(p) == hash(q))\n",
        "\n",
        "# Dedup by placing in a set\n",
        "dedup = {p, q}\n",
        "print('Set size after adding p and q (should be 1):', len(dedup))"
      ]
    }
  ],
  "metadata": {
    "kernelspec": {
      "display_name": "Python 3",
      "language": "python",
      "name": "python3"
    },
    "language_info": {
      "name": "python",
      "version": "3.x"
    }
  },
  "nbformat": 4,
  "nbformat_minor": 2
}