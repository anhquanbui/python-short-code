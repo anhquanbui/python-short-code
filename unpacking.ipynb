{
 "cells": [
  {
   "cell_type": "markdown",
   "id": "8cd26709",
   "metadata": {},
   "source": [
    "# 🧩 Unpacking Examples in Python\n",
    "This notebook demonstrates different types of unpacking in Python with simple explanations and outputs."
   ]
  },
  {
   "cell_type": "code",
   "execution_count": null,
   "id": "54630bfd",
   "metadata": {},
   "outputs": [],
   "source": [
    "# 1️⃣ Basic Unpacking\n",
    "fruits = [\"apple\", \"banana\", \"cherry\"]\n",
    "x, y, z = fruits\n",
    "print(\"Basic unpacking:\", x, y, z)  # apple banana cherry"
   ]
  },
  {
   "cell_type": "code",
   "execution_count": null,
   "id": "6ca24a59",
   "metadata": {},
   "outputs": [],
   "source": [
    "# 2️⃣ Unpacking with the * (star expression)\n",
    "fruits = [\"apple\", \"banana\", \"cherry\", \"orange\", \"mango\"]\n",
    "\n",
    "# Take the first two elements, group the rest into z\n",
    "x, y, *z = fruits\n",
    "print(\"Unpacking with * (1):\", x, y, z)\n",
    "\n",
    "# Take the first and last elements, group the middle ones into y\n",
    "x, *y, z = fruits\n",
    "print(\"Unpacking with * (2):\", x, y, z)"
   ]
  },
  {
   "cell_type": "code",
   "execution_count": null,
   "id": "4ef6c0f0",
   "metadata": {},
   "outputs": [],
   "source": [
    "# 3️⃣ Unpacking inside a loop\n",
    "pairs = [(1, 2), (3, 4), (5, 6)]\n",
    "print(\"\\nUnpacking in a loop:\")\n",
    "for a, b in pairs:\n",
    "    print(a, \"+\", b, \"=\", a + b)"
   ]
  },
  {
   "cell_type": "code",
   "execution_count": null,
   "id": "2707f0ec",
   "metadata": {},
   "outputs": [],
   "source": [
    "# 4️⃣ Unpacking in function arguments\n",
    "def add(a, b, c):\n",
    "    return a + b + c\n",
    "\n",
    "nums = [1, 2, 3]\n",
    "print(\"\\nUnpacking in function arguments:\", add(*nums))  # same as add(1, 2, 3)\n",
    "\n",
    "def intro(name, age):\n",
    "    print(f\"My name is {name} and I am {age} years old.\")\n",
    "\n",
    "info = {\"name\": \"Quan\", \"age\": 32}\n",
    "print(\"\\nUnpacking dictionary in function arguments:\")\n",
    "intro(**info)"
   ]
  },
  {
   "cell_type": "code",
   "execution_count": null,
   "id": "f2efdfb8",
   "metadata": {},
   "outputs": [],
   "source": [
    "# 5️⃣ Unpacking return values\n",
    "def get_info():\n",
    "    return \"apple\", \"banana\", \"cherry\"\n",
    "\n",
    "x, y, z = get_info()\n",
    "print(\"\\nUnpacking return values:\", x, y, z)"
   ]
  }
 ],
 "metadata": {},
 "nbformat": 4,
 "nbformat_minor": 5
}