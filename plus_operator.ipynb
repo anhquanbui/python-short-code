{
 "cells": [
  {
   "cell_type": "markdown",
   "id": "552a0f3a",
   "metadata": {},
   "source": [
    "# ➕ The Plus (`+`) Operator in Python\n",
    "This notebook explains different uses of the `+` operator in Python, depending on data types."
   ]
  },
  {
   "cell_type": "markdown",
   "id": "6a5a6d72",
   "metadata": {},
   "source": [
    "## 1️⃣ Arithmetic Addition"
   ]
  },
  {
   "cell_type": "code",
   "execution_count": null,
   "id": "82046baa",
   "metadata": {},
   "outputs": [],
   "source": [
    "# When used with numbers, + adds values\n",
    "a = 5\n",
    "b = 3\n",
    "print(\"a + b =\", a + b)\n",
    "\n",
    "x = 2.5\n",
    "y = 4\n",
    "print(\"x + y =\", x + y)"
   ]
  },
  {
   "cell_type": "markdown",
   "id": "ceb49113",
   "metadata": {},
   "source": [
    "## 2️⃣ String Concatenation"
   ]
  },
  {
   "cell_type": "code",
   "execution_count": null,
   "id": "700d45d6",
   "metadata": {},
   "outputs": [],
   "source": [
    "# When used with strings, + joins them together\n",
    "first = \"Hello\"\n",
    "second = \"World\"\n",
    "print(first + \" \" + second)\n",
    "\n",
    "# Mixing string and number requires type casting\n",
    "age = 25\n",
    "print(\"I am \" + str(age) + \" years old\")"
   ]
  },
  {
   "cell_type": "markdown",
   "id": "761a371e",
   "metadata": {},
   "source": [
    "## 3️⃣ List Concatenation"
   ]
  },
  {
   "cell_type": "code",
   "execution_count": null,
   "id": "893938f6",
   "metadata": {},
   "outputs": [],
   "source": [
    "# When used with lists, + merges them into a new list\n",
    "list1 = [1, 2, 3]\n",
    "list2 = [4, 5, 6]\n",
    "print(list1 + list2)"
   ]
  },
  {
   "cell_type": "markdown",
   "id": "5f917d76",
   "metadata": {},
   "source": [
    "## 4️⃣ Tuple Concatenation"
   ]
  },
  {
   "cell_type": "code",
   "execution_count": null,
   "id": "03948b79",
   "metadata": {},
   "outputs": [],
   "source": [
    "# Works the same with tuples\n",
    "t1 = (1, 2)\n",
    "t2 = (3, 4)\n",
    "print(t1 + t2)"
   ]
  },
  {
   "cell_type": "markdown",
   "id": "a5804ec0",
   "metadata": {},
   "source": [
    "## 5️⃣ Unary Plus (Positive sign)"
   ]
  },
  {
   "cell_type": "code",
   "execution_count": 1,
   "id": "d7c83b71",
   "metadata": {},
   "outputs": [
    {
     "name": "stdout",
     "output_type": "stream",
     "text": [
      "+5 = 5\n",
      "-5 = -5\n"
     ]
    }
   ],
   "source": [
    "# Unary + simply returns the value as positive\n",
    "x = +5\n",
    "y = -5\n",
    "print(\"+5 =\", x)\n",
    "print(\"-5 =\", y)"
   ]
  },
  {
   "cell_type": "markdown",
   "id": "72d3a36f",
   "metadata": {},
   "source": [
    "## 6️⃣ The += Operator (Addition Assignment)"
   ]
  },
  {
   "cell_type": "code",
   "execution_count": null,
   "id": "a3b520af",
   "metadata": {},
   "outputs": [],
   "source": [
    "# Adds and assigns back to the variable\n",
    "x = 10\n",
    "x += 5\n",
    "print(\"x after x += 5:\", x)\n",
    "\n",
    "# Works with strings too\n",
    "s = \"Hi\"\n",
    "s += \" there\"\n",
    "print(s)\n",
    "\n",
    "# Works with lists\n",
    "nums = [1, 2]\n",
    "nums += [3, 4]\n",
    "print(nums)"
   ]
  },
  {
   "cell_type": "markdown",
   "id": "5d98df9e",
   "metadata": {},
   "source": [
    "## ✅ Summary Table\n",
    "| Data Type | Behavior | Example | Result |\n",
    "|------------|-----------|----------|---------|\n",
    "| int / float | Adds numbers | `5 + 3` | `8` |\n",
    "| string | Concatenates text | `'Hi' + '!'` | `'Hi!'` |\n",
    "| list | Joins lists | `[1,2] + [3,4]` | `[1,2,3,4]` |\n",
    "| tuple | Joins tuples | `(1,2) + (3,)` | `(1,2,3)` |\n",
    "| unary + | Positive sign | `+5` | `5` |\n",
    "| += | Add and assign | `x += 2` | `x = x + 2` |"
   ]
  }
 ],
 "metadata": {
  "kernelspec": {
   "display_name": "Python 3",
   "language": "python",
   "name": "python3"
  },
  "language_info": {
   "codemirror_mode": {
    "name": "ipython",
    "version": 3
   },
   "file_extension": ".py",
   "mimetype": "text/x-python",
   "name": "python",
   "nbconvert_exporter": "python",
   "pygments_lexer": "ipython3",
   "version": "3.13.7"
  }
 },
 "nbformat": 4,
 "nbformat_minor": 5
}
